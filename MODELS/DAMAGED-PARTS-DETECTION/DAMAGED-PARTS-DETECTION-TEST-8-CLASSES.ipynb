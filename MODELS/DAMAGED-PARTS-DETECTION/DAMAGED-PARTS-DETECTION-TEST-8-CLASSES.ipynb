version https://git-lfs.github.com/spec/v1
oid sha256:15b145a43755ab7d1a7777bb7e75879862d875079c26a3e61d204ace91e6b7ab
size 3764428
