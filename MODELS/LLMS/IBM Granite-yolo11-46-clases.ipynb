version https://git-lfs.github.com/spec/v1
oid sha256:c050ed689c8c93c058f1f6d2b72229a76edf0b7269a4affbe8e00b0885048ae6
size 2456071
