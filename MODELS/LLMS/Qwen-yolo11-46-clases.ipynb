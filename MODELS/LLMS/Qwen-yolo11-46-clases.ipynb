version https://git-lfs.github.com/spec/v1
oid sha256:28c57a8a9508dfd6ab9387dea3496b5bce92b07a7d5672c4cf1897da254e34af
size 2771845
